{
 "cells": [
  {
   "cell_type": "code",
   "execution_count": 4,
   "metadata": {},
   "outputs": [
    {
     "name": "stderr",
     "output_type": "stream",
     "text": [
      "C:\\Users\\user\\anaconda3\\lib\\site-packages\\ipykernel_launcher.py:12: RuntimeWarning: divide by zero encountered in true_divide\n",
      "  if sys.path[0] == '':\n",
      "C:\\Users\\user\\anaconda3\\lib\\site-packages\\ipykernel_launcher.py:12: RuntimeWarning: invalid value encountered in true_divide\n",
      "  if sys.path[0] == '':\n",
      "C:\\Users\\user\\anaconda3\\lib\\site-packages\\ipykernel_launcher.py:13: RuntimeWarning: invalid value encountered in greater\n",
      "  del sys.path[0]\n"
     ]
    },
    {
     "data": {
      "text/plain": [
       "True"
      ]
     },
     "execution_count": 4,
     "metadata": {},
     "output_type": "execute_result"
    }
   ],
   "source": [
    "import cv2\n",
    "import numpy as np\n",
    "import imageio\n",
    "import scipy.ndimage\n",
    "\n",
    "img = \"C://Users//user//Downloads//br.jpg\"\n",
    "\n",
    "def greyscale(rgb):\n",
    "    return np.dot(rgb[...,:3],[0.299,0.587,0.114])\n",
    "\n",
    "def dodge(front , back):\n",
    "    result = front*255/(255-back)\n",
    "    result[result>255] = 255\n",
    "    result[result==255] = 255\n",
    "    return result.astype('uint8')\n",
    "\n",
    "\n",
    "\n",
    "\n",
    "\n",
    "s = imageio.imread(img)\n",
    "g = greyscale(s)\n",
    "i = 255-g\n",
    "\n",
    "b = scipy.ndimage.filters.gaussian_filter(i,sigma=10)\n",
    "r=dodge(b,g)\n",
    "\n",
    "\n",
    "cv2.imwrite('one.png',r)\n",
    "\n",
    "\n",
    "\n"
   ]
  },
  {
   "cell_type": "code",
   "execution_count": null,
   "metadata": {},
   "outputs": [],
   "source": []
  }
 ],
 "metadata": {
  "kernelspec": {
   "display_name": "Python 3",
   "language": "python",
   "name": "python3"
  },
  "language_info": {
   "codemirror_mode": {
    "name": "ipython",
    "version": 3
   },
   "file_extension": ".py",
   "mimetype": "text/x-python",
   "name": "python",
   "nbconvert_exporter": "python",
   "pygments_lexer": "ipython3",
   "version": "3.7.6"
  }
 },
 "nbformat": 4,
 "nbformat_minor": 4
}
